{
  "nbformat": 4,
  "nbformat_minor": 0,
  "metadata": {
    "colab": {
      "name": "Untitled1.ipynb",
      "provenance": []
    },
    "kernelspec": {
      "name": "python3",
      "display_name": "Python 3"
    }
  },
  "cells": [
    {
      "cell_type": "code",
      "metadata": {
        "id": "X1epFBUwR-j9"
      },
      "source": [
        ""
      ],
      "execution_count": 1,
      "outputs": []
    },
    {
      "cell_type": "markdown",
      "metadata": {
        "id": "DKoPQhXVSTy_"
      },
      "source": [
        "Question 1\n",
        "Solution :- (B)RAINBOW"
      ]
    },
    {
      "cell_type": "code",
      "metadata": {
        "id": "38ts_oqBSSp3"
      },
      "source": [
        ""
      ],
      "execution_count": null,
      "outputs": []
    },
    {
      "cell_type": "markdown",
      "metadata": {
        "id": "syXi8vhaSqvk"
      },
      "source": [
        "Quesion 2 Solution:"
      ]
    },
    {
      "cell_type": "code",
      "metadata": {
        "id": "kvpro7iJSvQC",
        "outputId": "3ed289b4-fb75-427a-f8ef-e63196fbda64",
        "colab": {
          "base_uri": "https://localhost:8080/"
        }
      },
      "source": [
        "str=\"lets upgrade\"\n",
        "print(str.upper())"
      ],
      "execution_count": 2,
      "outputs": [
        {
          "output_type": "stream",
          "text": [
            "LETS UPGRADE\n"
          ],
          "name": "stdout"
        }
      ]
    },
    {
      "cell_type": "code",
      "metadata": {
        "id": "n6IU6p9wS2SC"
      },
      "source": [
        ""
      ],
      "execution_count": null,
      "outputs": []
    },
    {
      "cell_type": "markdown",
      "metadata": {
        "id": "-3PGHzCCS5vx"
      },
      "source": [
        "Question 3 Solution :"
      ]
    },
    {
      "cell_type": "code",
      "metadata": {
        "id": "ANN0ZFbeS8kB",
        "outputId": "5edc645b-626b-48ab-b573-34e5ef37eeed",
        "colab": {
          "base_uri": "https://localhost:8080/"
        }
      },
      "source": [
        "cost_price=int(input())\n",
        "sell_price=int(input())\n",
        "if cost_price<sell_price : \n",
        "  print(\"Profit\")\n",
        "elif cost_price>sell_price:\n",
        "  print(\"Loss\")\n",
        "else:\n",
        "  print(\"Neither\")"
      ],
      "execution_count": 7,
      "outputs": [
        {
          "output_type": "stream",
          "text": [
            "10\n",
            "10\n",
            "Neither\n"
          ],
          "name": "stdout"
        }
      ]
    },
    {
      "cell_type": "code",
      "metadata": {
        "id": "xsVEmBV5Tpa5"
      },
      "source": [
        ""
      ],
      "execution_count": null,
      "outputs": []
    },
    {
      "cell_type": "markdown",
      "metadata": {
        "id": "Wy-3EYZJUO1H"
      },
      "source": [
        "Question 4 Solution :"
      ]
    },
    {
      "cell_type": "code",
      "metadata": {
        "id": "1DsORhS5URqa",
        "outputId": "a888863c-861a-4489-aece-f565f8ea85bd",
        "colab": {
          "base_uri": "https://localhost:8080/"
        }
      },
      "source": [
        "inr=int(input())\n",
        "print(inr/80)\n"
      ],
      "execution_count": 9,
      "outputs": [
        {
          "output_type": "stream",
          "text": [
            "100\n",
            "1.25\n"
          ],
          "name": "stdout"
        }
      ]
    },
    {
      "cell_type": "code",
      "metadata": {
        "id": "h_6dQOzqUony"
      },
      "source": [
        ""
      ],
      "execution_count": null,
      "outputs": []
    }
  ]
}